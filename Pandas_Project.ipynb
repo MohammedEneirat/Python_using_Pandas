{
 "cells": [
  {
   "cell_type": "code",
   "execution_count": 2,
   "id": "142403c1",
   "metadata": {},
   "outputs": [
    {
     "name": "stderr",
     "output_type": "stream",
     "text": [
      "C:\\Users\\PC\\AppData\\Local\\Temp\\ipykernel_8448\\2922742852.py:2: DtypeWarning: Columns (33) have mixed types. Specify dtype option on import or set low_memory=False.\n",
      "  df=pa.read_csv(r'C:\\Users\\PC\\Downloads\\owid-covid-data.csv')\n"
     ]
    }
   ],
   "source": [
    "import pandas as pa\n",
    "df=pa.read_csv(r'C:\\Users\\PC\\Downloads\\owid-covid-data.csv')"
   ]
  },
  {
   "cell_type": "code",
   "execution_count": 3,
   "id": "3c23017e",
   "metadata": {},
   "outputs": [
    {
     "name": "stdout",
     "output_type": "stream",
     "text": [
      "number of row :  311364\n",
      "number of coulmn :  67\n"
     ]
    }
   ],
   "source": [
    "row , coulmn=df.shape\n",
    "print(\"number of row : \",row)\n",
    "print(\"number of coulmn : \",coulmn)"
   ]
  },
  {
   "cell_type": "code",
   "execution_count": 4,
   "id": "02473e0b",
   "metadata": {},
   "outputs": [
    {
     "name": "stdout",
     "output_type": "stream",
     "text": [
      "  iso_code continent     location        date  total_cases  new_cases  \\\n",
      "0      AFG      Asia  Afghanistan  2020-01-03          NaN        0.0   \n",
      "1      AFG      Asia  Afghanistan  2020-01-04          NaN        0.0   \n",
      "2      AFG      Asia  Afghanistan  2020-01-05          NaN        0.0   \n",
      "3      AFG      Asia  Afghanistan  2020-01-06          NaN        0.0   \n",
      "4      AFG      Asia  Afghanistan  2020-01-07          NaN        0.0   \n",
      "5      AFG      Asia  Afghanistan  2020-01-08          NaN        0.0   \n",
      "6      AFG      Asia  Afghanistan  2020-01-09          NaN        0.0   \n",
      "7      AFG      Asia  Afghanistan  2020-01-10          NaN        0.0   \n",
      "8      AFG      Asia  Afghanistan  2020-01-11          NaN        0.0   \n",
      "9      AFG      Asia  Afghanistan  2020-01-12          NaN        0.0   \n",
      "\n",
      "   new_cases_smoothed  total_deaths  new_deaths  new_deaths_smoothed  ...  \\\n",
      "0                 NaN           NaN         0.0                  NaN  ...   \n",
      "1                 NaN           NaN         0.0                  NaN  ...   \n",
      "2                 NaN           NaN         0.0                  NaN  ...   \n",
      "3                 NaN           NaN         0.0                  NaN  ...   \n",
      "4                 NaN           NaN         0.0                  NaN  ...   \n",
      "5                 0.0           NaN         0.0                  0.0  ...   \n",
      "6                 0.0           NaN         0.0                  0.0  ...   \n",
      "7                 0.0           NaN         0.0                  0.0  ...   \n",
      "8                 0.0           NaN         0.0                  0.0  ...   \n",
      "9                 0.0           NaN         0.0                  0.0  ...   \n",
      "\n",
      "   male_smokers  handwashing_facilities  hospital_beds_per_thousand  \\\n",
      "0           NaN                  37.746                         0.5   \n",
      "1           NaN                  37.746                         0.5   \n",
      "2           NaN                  37.746                         0.5   \n",
      "3           NaN                  37.746                         0.5   \n",
      "4           NaN                  37.746                         0.5   \n",
      "5           NaN                  37.746                         0.5   \n",
      "6           NaN                  37.746                         0.5   \n",
      "7           NaN                  37.746                         0.5   \n",
      "8           NaN                  37.746                         0.5   \n",
      "9           NaN                  37.746                         0.5   \n",
      "\n",
      "   life_expectancy  human_development_index  population  \\\n",
      "0            64.83                    0.511  41128772.0   \n",
      "1            64.83                    0.511  41128772.0   \n",
      "2            64.83                    0.511  41128772.0   \n",
      "3            64.83                    0.511  41128772.0   \n",
      "4            64.83                    0.511  41128772.0   \n",
      "5            64.83                    0.511  41128772.0   \n",
      "6            64.83                    0.511  41128772.0   \n",
      "7            64.83                    0.511  41128772.0   \n",
      "8            64.83                    0.511  41128772.0   \n",
      "9            64.83                    0.511  41128772.0   \n",
      "\n",
      "   excess_mortality_cumulative_absolute  excess_mortality_cumulative  \\\n",
      "0                                   NaN                          NaN   \n",
      "1                                   NaN                          NaN   \n",
      "2                                   NaN                          NaN   \n",
      "3                                   NaN                          NaN   \n",
      "4                                   NaN                          NaN   \n",
      "5                                   NaN                          NaN   \n",
      "6                                   NaN                          NaN   \n",
      "7                                   NaN                          NaN   \n",
      "8                                   NaN                          NaN   \n",
      "9                                   NaN                          NaN   \n",
      "\n",
      "   excess_mortality  excess_mortality_cumulative_per_million  \n",
      "0               NaN                                      NaN  \n",
      "1               NaN                                      NaN  \n",
      "2               NaN                                      NaN  \n",
      "3               NaN                                      NaN  \n",
      "4               NaN                                      NaN  \n",
      "5               NaN                                      NaN  \n",
      "6               NaN                                      NaN  \n",
      "7               NaN                                      NaN  \n",
      "8               NaN                                      NaN  \n",
      "9               NaN                                      NaN  \n",
      "\n",
      "[10 rows x 67 columns]\n",
      "###########################################################################################\n",
      "       iso_code continent  location        date  total_cases  new_cases  \\\n",
      "311359      ZWE    Africa  Zimbabwe  2023-05-13     264821.0        5.0   \n",
      "311360      ZWE    Africa  Zimbabwe  2023-05-14     264841.0       20.0   \n",
      "311361      ZWE    Africa  Zimbabwe  2023-05-15     264848.0        7.0   \n",
      "311362      ZWE    Africa  Zimbabwe  2023-05-16     264848.0        0.0   \n",
      "311363      ZWE    Africa  Zimbabwe  2023-05-17     264848.0        0.0   \n",
      "\n",
      "        new_cases_smoothed  total_deaths  new_deaths  new_deaths_smoothed  \\\n",
      "311359              10.286        5690.0         1.0                0.429   \n",
      "311360              10.714        5690.0         0.0                0.429   \n",
      "311361              10.286        5690.0         0.0                0.286   \n",
      "311362               9.429        5690.0         0.0                0.286   \n",
      "311363               8.143        5690.0         0.0                0.143   \n",
      "\n",
      "        ...  male_smokers  handwashing_facilities  hospital_beds_per_thousand  \\\n",
      "311359  ...          30.7                  36.791                         1.7   \n",
      "311360  ...          30.7                  36.791                         1.7   \n",
      "311361  ...          30.7                  36.791                         1.7   \n",
      "311362  ...          30.7                  36.791                         1.7   \n",
      "311363  ...          30.7                  36.791                         1.7   \n",
      "\n",
      "        life_expectancy  human_development_index  population  \\\n",
      "311359            61.49                    0.571  16320539.0   \n",
      "311360            61.49                    0.571  16320539.0   \n",
      "311361            61.49                    0.571  16320539.0   \n",
      "311362            61.49                    0.571  16320539.0   \n",
      "311363            61.49                    0.571  16320539.0   \n",
      "\n",
      "        excess_mortality_cumulative_absolute  excess_mortality_cumulative  \\\n",
      "311359                                   NaN                          NaN   \n",
      "311360                                   NaN                          NaN   \n",
      "311361                                   NaN                          NaN   \n",
      "311362                                   NaN                          NaN   \n",
      "311363                                   NaN                          NaN   \n",
      "\n",
      "        excess_mortality  excess_mortality_cumulative_per_million  \n",
      "311359               NaN                                      NaN  \n",
      "311360               NaN                                      NaN  \n",
      "311361               NaN                                      NaN  \n",
      "311362               NaN                                      NaN  \n",
      "311363               NaN                                      NaN  \n",
      "\n",
      "[5 rows x 67 columns]\n"
     ]
    }
   ],
   "source": [
    "print(df.head(10))\n",
    "print(\"###########################################################################################\")\n",
    "print(df.tail())"
   ]
  },
  {
   "cell_type": "code",
   "execution_count": 5,
   "id": "1cfd8b9c",
   "metadata": {},
   "outputs": [
    {
     "name": "stdout",
     "output_type": "stream",
     "text": [
      "        total_cases     new_cases  new_cases_smoothed  total_deaths  \\\n",
      "count  2.753350e+05  3.026550e+05        3.013910e+05  2.546350e+05   \n",
      "mean   5.767156e+06  1.073397e+04        1.077678e+04  8.061661e+04   \n",
      "std    3.600088e+07  1.030085e+05        1.002455e+05  4.164645e+05   \n",
      "min    1.000000e+00  0.000000e+00        0.000000e+00  1.000000e+00   \n",
      "25%    6.565000e+03  0.000000e+00        1.143000e+00  1.210000e+02   \n",
      "50%    6.239700e+04  1.700000e+01        3.771400e+01  1.230000e+03   \n",
      "75%    6.419815e+05  5.230000e+02        6.310000e+02  1.064800e+04   \n",
      "max    7.664400e+08  7.460822e+06        6.410667e+06  6.932578e+06   \n",
      "\n",
      "          new_deaths  new_deaths_smoothed  total_cases_per_million  \\\n",
      "count  302735.000000        301505.000000            275335.000000   \n",
      "mean       95.740952            96.103652             88010.375666   \n",
      "std       600.706338           591.334247            138439.520139   \n",
      "min         0.000000             0.000000                 0.000000   \n",
      "25%         0.000000             0.000000              2039.082000   \n",
      "50%         0.000000             0.286000             20898.389000   \n",
      "75%         6.000000             6.714000            107810.942500   \n",
      "max     20027.000000         14677.857000            737554.506000   \n",
      "\n",
      "       new_cases_per_million  new_cases_smoothed_per_million  \\\n",
      "count          302655.000000                   301391.000000   \n",
      "mean              161.890445                      162.525589   \n",
      "std              1127.171598                      634.547240   \n",
      "min                 0.000000                        0.000000   \n",
      "25%                 0.000000                        0.246000   \n",
      "50%                 2.396000                       10.664000   \n",
      "75%                68.501000                      103.445000   \n",
      "max            228872.025000                    37241.781000   \n",
      "\n",
      "       total_deaths_per_million  ...   male_smokers  handwashing_facilities  \\\n",
      "count             254635.000000  ...  178514.000000           118181.000000   \n",
      "mean                 811.194069  ...      32.909969               50.790203   \n",
      "std                 1053.772688  ...      13.574379               31.957386   \n",
      "min                    0.000000  ...       7.700000                1.188000   \n",
      "25%                   50.398500  ...      22.600000               20.859000   \n",
      "50%                  338.621000  ...      33.100000               49.839000   \n",
      "75%                 1246.603000  ...      41.300000               83.241000   \n",
      "max                 6476.319000  ...      78.100000              100.000000   \n",
      "\n",
      "       hospital_beds_per_thousand  life_expectancy  human_development_index  \\\n",
      "count               212982.000000    286343.000000            233878.000000   \n",
      "mean                     3.097160        73.717721                 0.722479   \n",
      "std                      2.548461         7.397216                 0.148990   \n",
      "min                      0.100000        53.280000                 0.394000   \n",
      "25%                      1.300000        69.590000                 0.602000   \n",
      "50%                      2.500000        75.050000                 0.740000   \n",
      "75%                      4.200000        79.460000                 0.829000   \n",
      "max                     13.800000        86.750000                 0.957000   \n",
      "\n",
      "         population  excess_mortality_cumulative_absolute  \\\n",
      "count  3.113640e+05                          1.066900e+04   \n",
      "mean   1.281154e+08                          4.739668e+04   \n",
      "std    6.596972e+08                          1.384241e+05   \n",
      "min    4.700000e+01                         -3.772610e+04   \n",
      "25%    4.490020e+05                          2.780000e+01   \n",
      "50%    5.882259e+06                          4.530999e+03   \n",
      "75%    2.830170e+07                          3.159700e+04   \n",
      "max    7.975105e+09                          1.282260e+06   \n",
      "\n",
      "       excess_mortality_cumulative  excess_mortality  \\\n",
      "count                 10669.000000      10669.000000   \n",
      "mean                      9.538903         12.633550   \n",
      "std                      12.914011         26.344219   \n",
      "min                     -44.230000        -95.920000   \n",
      "25%                       0.560000         -1.200000   \n",
      "50%                       7.750000          6.490000   \n",
      "75%                      15.360000         18.070000   \n",
      "max                      76.550000        377.300000   \n",
      "\n",
      "       excess_mortality_cumulative_per_million  \n",
      "count                             10669.000000  \n",
      "mean                               1477.149682  \n",
      "std                                1840.907839  \n",
      "min                               -1984.281600  \n",
      "25%                                  24.645111  \n",
      "50%                                 900.418500  \n",
      "75%                                2399.257000  \n",
      "max                               10291.122000  \n",
      "\n",
      "[8 rows x 62 columns]\n",
      "********************************************************************************************\n",
      "iso_code                                      255\n",
      "continent                                       6\n",
      "location                                      255\n",
      "date                                         1234\n",
      "total_cases                                141800\n",
      "                                            ...  \n",
      "population                                    255\n",
      "excess_mortality_cumulative_absolute        10480\n",
      "excess_mortality_cumulative                  4060\n",
      "excess_mortality                             5148\n",
      "excess_mortality_cumulative_per_million     10625\n",
      "Length: 67, dtype: int64\n"
     ]
    }
   ],
   "source": [
    "print(df.describe())\n",
    "print(\"********************************************************************************************\")\n",
    "print(df.nunique())"
   ]
  },
  {
   "cell_type": "code",
   "execution_count": 6,
   "id": "7feecb91",
   "metadata": {},
   "outputs": [],
   "source": [
    "toDrop=['new_deaths_smoothed' , 'new_cases_per_million' , 'total_cases_per_million']\n",
    "df = df.drop(toDrop, axis=1)"
   ]
  },
  {
   "cell_type": "code",
   "execution_count": 7,
   "id": "697968d6",
   "metadata": {},
   "outputs": [],
   "source": [
    "new_name = {'date': 'Date','location':'Country','continent': 'Continent','iso_code':'ISO_code'}\n",
    "df = df.rename(columns=new_name)"
   ]
  },
  {
   "cell_type": "code",
   "execution_count": 8,
   "id": "e521fb1d",
   "metadata": {},
   "outputs": [
    {
     "name": "stdout",
     "output_type": "stream",
     "text": [
      "['Asia', nan, 'Europe', 'Africa', 'Oceania', 'North America', 'South America']\n"
     ]
    }
   ],
   "source": [
    "theList = df['Continent'].unique().tolist()\n",
    "print(theList)"
   ]
  },
  {
   "cell_type": "code",
   "execution_count": 9,
   "id": "86d8bbb3",
   "metadata": {},
   "outputs": [],
   "source": [
    "from sklearn.impute import SimpleImputer\n",
    "imputer = SimpleImputer(strategy='constant')\n",
    "df2 = pa.DataFrame(imputer.fit_transform(df), columns=df.columns)"
   ]
  },
  {
   "cell_type": "code",
   "execution_count": 10,
   "id": "020d7fd8",
   "metadata": {},
   "outputs": [
    {
     "name": "stdout",
     "output_type": "stream",
     "text": [
      "              Date              Country    total_cases   total_deaths  \\\n",
      "0       2020-01-01            Argentina  missing_value  missing_value   \n",
      "1       2020-01-01               Mexico  missing_value  missing_value   \n",
      "2       2020-01-02            Argentina  missing_value  missing_value   \n",
      "3       2020-01-02               Mexico  missing_value  missing_value   \n",
      "4       2020-01-03          Afghanistan  missing_value  missing_value   \n",
      "...            ...                  ...            ...            ...   \n",
      "311359  2023-05-18        South America  missing_value  missing_value   \n",
      "311360  2023-05-18          South Korea  missing_value  missing_value   \n",
      "311361  2023-05-18  Upper middle income  missing_value  missing_value   \n",
      "311362  2023-05-18              Uruguay  missing_value  missing_value   \n",
      "311363  2023-05-18                World  missing_value  missing_value   \n",
      "\n",
      "       total_vaccinations  \n",
      "0           missing_value  \n",
      "1           missing_value  \n",
      "2           missing_value  \n",
      "3           missing_value  \n",
      "4           missing_value  \n",
      "...                   ...  \n",
      "311359        957020867.0  \n",
      "311360      missing_value  \n",
      "311361       5415545806.0  \n",
      "311362          9021046.0  \n",
      "311363      13381892700.0  \n",
      "\n",
      "[311364 rows x 5 columns]\n"
     ]
    }
   ],
   "source": [
    "df3 = df2.groupby(['Date','Country'])[['total_cases','total_deaths','total_vaccinations']].sum().reset_index()\n",
    "print(df3)"
   ]
  },
  {
   "cell_type": "code",
   "execution_count": 11,
   "id": "f5b4fab4",
   "metadata": {},
   "outputs": [],
   "source": [
    "changeValue = ['total_cases', 'total_deaths', 'total_vaccinations']\n",
    "df2[changeValue] = df2[changeValue].replace('missing_value', 0)"
   ]
  },
  {
   "cell_type": "code",
   "execution_count": 13,
   "id": "787fd458",
   "metadata": {},
   "outputs": [
    {
     "name": "stdout",
     "output_type": "stream",
     "text": [
      "number of country that total_deaths > 1000000 : 10\n"
     ]
    }
   ],
   "source": [
    "df3['total_deaths'] = pa.to_numeric(df3['total_deaths'], errors='coerce')\n",
    "filter_df3 = df3[df3['total_deaths'] > 1000000]\n",
    "numberOfCountry = len(filter_df3['Country'].unique())\n",
    "print('number of country that total_deaths > 1000000 :',numberOfCountry)"
   ]
  },
  {
   "cell_type": "code",
   "execution_count": 14,
   "id": "f20aec9e",
   "metadata": {},
   "outputs": [
    {
     "name": "stdout",
     "output_type": "stream",
     "text": [
      "number of date that total_deaths > 1000000 is : 981\n"
     ]
    }
   ],
   "source": [
    "total_dates = filter_df3['Date'].nunique()\n",
    "print('number of date that total_deaths > 1000000 is :',total_dates)"
   ]
  },
  {
   "cell_type": "code",
   "execution_count": null,
   "id": "eba0e6e9",
   "metadata": {},
   "outputs": [],
   "source": []
  }
 ],
 "metadata": {
  "kernelspec": {
   "display_name": "Python 3 (ipykernel)",
   "language": "python",
   "name": "python3"
  },
  "language_info": {
   "codemirror_mode": {
    "name": "ipython",
    "version": 3
   },
   "file_extension": ".py",
   "mimetype": "text/x-python",
   "name": "python",
   "nbconvert_exporter": "python",
   "pygments_lexer": "ipython3",
   "version": "3.10.9"
  }
 },
 "nbformat": 4,
 "nbformat_minor": 5
}
